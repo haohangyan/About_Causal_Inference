{
 "cells": [
  {
   "cell_type": "code",
   "execution_count": 3,
   "id": "b3c5b148-651c-4fb6-9c7d-ccba25f07066",
   "metadata": {},
   "outputs": [],
   "source": [
    "import numpy as np\n",
    "from scipy import stats\n",
    "import matplotlib.pyplot as plt\n",
    "import pandas as pd\n",
    "import scipy.stats as stats\n",
    "import statistics\n",
    "data_df=pd.read_csv(\"movieReplicationSet.csv\")\n",
    "movies=data_df[data_df.columns[1:400]]\n",
    "gender=data_df.iloc[:,-3]\n",
    "child=data_df.iloc[:,-2]\n",
    "child=child.tolist()\n",
    "cry=data_df.iloc[:,-13]\n",
    "cry=cry.tolist()\n",
    "enjoy_alone=data_df.iloc[:,-1]\n",
    "enjoy_alone=enjoy_alone.tolist()\n",
    "gender=gender.tolist()\n",
    "movie_names=movies.columns\n",
    "M=[] #1-400 data\n",
    "M1=[]\n",
    "for name in movie_names:\n",
    "    data=pd.to_numeric(movies[name],errors=\"coerce\").values\n",
    "    M.append(data)\n",
    "#remove NaN element wise\n",
    "for index,data in enumerate(M):\n",
    "    M1.append(data[np.isfinite(data)])"
   ]
  },
  {
   "cell_type": "markdown",
   "id": "78601763-70a6-47c1-b0a5-7ee8a92e3812",
   "metadata": {},
   "source": [
    "## 1"
   ]
  },
  {
   "cell_type": "code",
   "execution_count": 254,
   "id": "a457bf5e-a752-49c1-acf5-3862dc329ef3",
   "metadata": {
    "tags": []
   },
   "outputs": [
    {
     "data": {
      "text/plain": [
       "MannwhitneyuResult(statistic=743501391.5, pvalue=0.0)"
      ]
     },
     "execution_count": 254,
     "metadata": {},
     "output_type": "execute_result"
    }
   ],
   "source": [
    "pop=[]\n",
    "#split by median\n",
    "for i in M1:\n",
    "    pop.append(len(i))\n",
    "median=statistics.median(pop)\n",
    "less_popular=[]\n",
    "more_popular=[]\n",
    "for i in M1:\n",
    "    if len(i)<=median:\n",
    "        for ii in i:\n",
    "            less_popular.append(ii)\n",
    "    else:\n",
    "        for ii in i:\n",
    "            more_popular.append(ii)\n",
    "stats.mannwhitneyu(less_popular, more_popular, alternative='less')"
   ]
  },
  {
   "cell_type": "markdown",
   "id": "93590f3a-fd12-4405-8d35-15b94ad9ab96",
   "metadata": {},
   "source": [
    "## 2"
   ]
  },
  {
   "cell_type": "code",
   "execution_count": 271,
   "id": "ef7dfec7-32bc-4813-9a3a-ea77ad206527",
   "metadata": {},
   "outputs": [
    {
     "data": {
      "text/plain": [
       "MannwhitneyuResult(statistic=1554109256.0, pvalue=0.0013318088411501635)"
      ]
     },
     "execution_count": 271,
     "metadata": {},
     "output_type": "execute_result"
    }
   ],
   "source": [
    "year=[]\n",
    "old_movies_rating=[]\n",
    "new_movies_rating=[]\n",
    "for name in movie_names:\n",
    "    year.append(int(name[-5:-1]))\n",
    "year_median=statistics.median(year)\n",
    "for index,i in enumerate(M1):\n",
    "    if year[index]<=year_median:\n",
    "        for ii in i:\n",
    "            old_movies_rating.append(ii)\n",
    "    else:\n",
    "        for ii in i:\n",
    "            new_movies_rating.append(ii)\n",
    "stats.mannwhitneyu(old_movies_rating, new_movies_rating, alternative='two-sided')"
   ]
  },
  {
   "cell_type": "markdown",
   "id": "95df08f1-9784-4b92-a413-a4b32f48a27e",
   "metadata": {},
   "source": [
    "## 3"
   ]
  },
  {
   "cell_type": "code",
   "execution_count": 240,
   "id": "c14e8cef-1ecb-4fbd-bb75-d212b6a62580",
   "metadata": {},
   "outputs": [
    {
     "data": {
      "text/plain": [
       "MannwhitneyuResult(statistic=82232.5, pvalue=0.050536625925559006)"
      ]
     },
     "execution_count": 240,
     "metadata": {},
     "output_type": "execute_result"
    }
   ],
   "source": [
    "data_shrek=pd.to_numeric(movies[\"Shrek (2001)\"],errors=\"coerce\").values\n",
    "male_rating=[]\n",
    "female_rating=[]\n",
    "#split by gender\n",
    "for index,g in enumerate(gender):\n",
    "    if g==2:\n",
    "        male_rating.append(data_shrek[index])\n",
    "    elif g==1:\n",
    "        female_rating.append(data_shrek[index])\n",
    "#remove NaN element wise\n",
    "male_rating=np.array(male_rating)\n",
    "male_rating=male_rating[np.isfinite(male_rating)]\n",
    "female_rating=np.array(female_rating)\n",
    "female_rating=female_rating[np.isfinite(female_rating)]\n",
    "#perform test\n",
    "stats.mannwhitneyu(male_rating, female_rating, alternative='two-sided')"
   ]
  },
  {
   "cell_type": "markdown",
   "id": "c18a97a8-8732-4eba-a1d6-e55a2fd2a42e",
   "metadata": {},
   "source": [
    "## 4"
   ]
  },
  {
   "cell_type": "code",
   "execution_count": 249,
   "id": "74b02389-db04-470e-bdd1-8e659e92cace",
   "metadata": {},
   "outputs": [
    {
     "name": "stdout",
     "output_type": "stream",
     "text": [
      "proportion of movies are rated differently by male and female viewers=  0.125\n"
     ]
    }
   ],
   "source": [
    "n_differently=0 # number of movies rated differently\n",
    "for name in movie_names:\n",
    "    data_shrek=pd.to_numeric(movies[name],errors=\"coerce\").values\n",
    "    male_rating=[]\n",
    "    female_rating=[]\n",
    "    #split by gender\n",
    "    for index,g in enumerate(gender):\n",
    "        if g==2:\n",
    "            male_rating.append(data_shrek[index])\n",
    "        elif g==1:\n",
    "            female_rating.append(data_shrek[index])\n",
    "    #remove NaN element wise\n",
    "    male_rating=np.array(male_rating)\n",
    "    male_rating=male_rating[np.isfinite(male_rating)]\n",
    "    female_rating=np.array(female_rating)\n",
    "    female_rating=female_rating[np.isfinite(female_rating)]\n",
    "    #perform test\n",
    "    s,p=stats.mannwhitneyu(male_rating, female_rating, alternative='two-sided')\n",
    "    if p<0.005:\n",
    "        n_differently+=1\n",
    "print(\"proportion of movies are rated differently by male and female viewers= \",n_differently/400)"
   ]
  },
  {
   "cell_type": "markdown",
   "id": "5bf6f900-bd70-4129-92e9-44a758fdf3b5",
   "metadata": {},
   "source": [
    "## 5"
   ]
  },
  {
   "cell_type": "code",
   "execution_count": 242,
   "id": "f0330e2e-23fb-4678-a44a-12ebd780863a",
   "metadata": {},
   "outputs": [
    {
     "data": {
      "text/plain": [
       "MannwhitneyuResult(statistic=52929.0, pvalue=0.978419092554931)"
      ]
     },
     "execution_count": 242,
     "metadata": {},
     "output_type": "execute_result"
    }
   ],
   "source": [
    "data_lion=pd.to_numeric(movies[\"The Lion King (1994)\"],errors=\"coerce\").values\n",
    "only_rating=[]\n",
    "sibling_rating=[]\n",
    "#split by if the only child\n",
    "for index,g in enumerate(child):\n",
    "    if g==1:\n",
    "        only_rating.append(data_lion[index])\n",
    "    elif g==0:\n",
    "        sibling_rating.append(data_lion[index])\n",
    "#remove NaN element wise\n",
    "only_rating=np.array(only_rating)\n",
    "only_rating=only_rating[np.isfinite(only_rating)]\n",
    "sibling_rating=np.array(sibling_rating)\n",
    "sibling_rating=sibling_rating[np.isfinite(sibling_rating)]\n",
    "#perform test\n",
    "stats.mannwhitneyu(only_rating, sibling_rating, alternative='greater')"
   ]
  },
  {
   "cell_type": "markdown",
   "id": "9e4719be-2fba-4fc1-8126-14ec8d650657",
   "metadata": {},
   "source": [
    "## 6"
   ]
  },
  {
   "cell_type": "code",
   "execution_count": 250,
   "id": "1c9076aa-77e5-4f01-8057-07ec0aff3b61",
   "metadata": {},
   "outputs": [
    {
     "name": "stdout",
     "output_type": "stream",
     "text": [
      "proportion of movies exhibit an “only child effect”=  0.0175\n"
     ]
    }
   ],
   "source": [
    "n_differently=0 # number of movies rated differently\n",
    "for name in movie_names:\n",
    "    rating=pd.to_numeric(movies[name],errors=\"coerce\").values\n",
    "    only_rating=[]\n",
    "    sibling_rating=[]\n",
    "    #split by if the only child\n",
    "    for index,g in enumerate(child):\n",
    "        if g==1:\n",
    "            only_rating.append(rating[index])\n",
    "        elif g==0:\n",
    "            sibling_rating.append(rating[index])\n",
    "    #remove NaN element wise\n",
    "    only_rating=np.array(only_rating)\n",
    "    only_rating=only_rating[np.isfinite(only_rating)]\n",
    "    sibling_rating=np.array(sibling_rating)\n",
    "    sibling_rating=sibling_rating[np.isfinite(sibling_rating)]\n",
    "    #perform test\n",
    "    s,p=stats.mannwhitneyu(only_rating, sibling_rating, alternative='two-sided')\n",
    "    if p<0.005:\n",
    "        n_differently+=1\n",
    "print(\"proportion of movies exhibit an “only child effect”= \",n_differently/400)"
   ]
  },
  {
   "cell_type": "markdown",
   "id": "54dea8d5-50e8-4c30-9921-79d7453dbde3",
   "metadata": {},
   "source": [
    "## 7"
   ]
  },
  {
   "cell_type": "code",
   "execution_count": 244,
   "id": "deb4d1a5-f791-467a-b82b-5a49eaec1881",
   "metadata": {},
   "outputs": [
    {
     "data": {
      "text/plain": [
       "MannwhitneyuResult(statistic=49303.5, pvalue=0.9436657996253056)"
      ]
     },
     "execution_count": 244,
     "metadata": {},
     "output_type": "execute_result"
    }
   ],
   "source": [
    "data_wst=pd.to_numeric(movies[\"The Wolf of Wall Street (2013)\"],errors=\"coerce\").values\n",
    "alone=[]\n",
    "not_alone=[]\n",
    "#split by if watch alone\n",
    "for index,g in enumerate(enjoy_alone):\n",
    "    if g==1:\n",
    "        alone.append(data_wst[index])\n",
    "    elif g==0:\n",
    "        not_alone.append(data_wst[index])\n",
    "#remove NaN element wise\n",
    "alone=np.array(alone)\n",
    "alone=alone[np.isfinite(alone)]\n",
    "not_alone=np.array(not_alone)\n",
    "not_alone=not_alone[np.isfinite(not_alone)]\n",
    "#perform test\n",
    "stats.mannwhitneyu(not_alone, alone ,alternative='greater')"
   ]
  },
  {
   "cell_type": "markdown",
   "id": "e0c66949-8e6c-4c62-8ae2-601d333d1148",
   "metadata": {},
   "source": [
    "## 8"
   ]
  },
  {
   "cell_type": "code",
   "execution_count": 251,
   "id": "e6901486-5e1a-4159-9a83-d34365b8e1bf",
   "metadata": {},
   "outputs": [
    {
     "name": "stdout",
     "output_type": "stream",
     "text": [
      "proportion of movies exhibit such a “social watching” effect 0.015\n"
     ]
    }
   ],
   "source": [
    "n_differently=0 # number of movies rated differently\n",
    "for name in movie_names:\n",
    "    rating=pd.to_numeric(movies[name],errors=\"coerce\").values\n",
    "    alone=[]\n",
    "    not_alone=[]\n",
    "    #split by if watch alone\n",
    "    for index,g in enumerate(enjoy_alone):\n",
    "        if g==1:\n",
    "            alone.append(rating[index])\n",
    "        elif g==0:\n",
    "            not_alone.append(rating[index])\n",
    "    #remove NaN element wise\n",
    "    alone=np.array(alone)\n",
    "    alone=alone[np.isfinite(alone)]\n",
    "    not_alone=np.array(not_alone)\n",
    "    not_alone=not_alone[np.isfinite(not_alone)]\n",
    "    #perform test\n",
    "    s,p=stats.mannwhitneyu(not_alone, alone ,alternative='greater')\n",
    "    if p<0.005:\n",
    "        n_differently+=1\n",
    "print(\"proportion of movies exhibit such a “social watching” effect\", n_differently/400)"
   ]
  },
  {
   "cell_type": "markdown",
   "id": "e37ae170-4e69-4130-a6e2-f3f58cf5e57b",
   "metadata": {},
   "source": [
    "## 9"
   ]
  },
  {
   "cell_type": "code",
   "execution_count": 246,
   "id": "22541b2b-9687-4e24-8937-5f52d43f22be",
   "metadata": {},
   "outputs": [
    {
     "data": {
      "text/plain": [
       "MannwhitneyuResult(statistic=358138.0, pvalue=8.815719392857246e-12)"
      ]
     },
     "execution_count": 246,
     "metadata": {},
     "output_type": "execute_result"
    }
   ],
   "source": [
    "data_home=pd.to_numeric(movies[\"Home Alone (1990)\"],errors=\"coerce\").values\n",
    "data_finding=pd.to_numeric(movies[\"Finding Nemo (2003)\"],errors=\"coerce\").values\n",
    "data_home=data_home[np.isfinite(data_home)]\n",
    "data_finding=data_finding[np.isfinite(data_finding)]\n",
    "stats.mannwhitneyu(data_home, data_finding ,alternative='two-sided')"
   ]
  },
  {
   "cell_type": "markdown",
   "id": "deb0bda2-b312-4341-bf8e-91f4602e135b",
   "metadata": {},
   "source": [
    "## 10"
   ]
  },
  {
   "cell_type": "code",
   "execution_count": 2,
   "id": "17bc8066-5a8d-419e-9008-0d165c42d5d2",
   "metadata": {},
   "outputs": [
    {
     "name": "stdout",
     "output_type": "stream",
     "text": [
      "Star Wars\n",
      "KruskalResult(statistic=230.5841753686405, pvalue=8.01647736660335e-48)\n",
      "Harry Potter\n",
      "KruskalResult(statistic=3.331230732890868, pvalue=0.34331950837289205)\n",
      "The Matrix\n",
      "KruskalResult(statistic=48.378866521305774, pvalue=3.1236517880781424e-11)\n",
      "Indiana Jones\n",
      "KruskalResult(statistic=45.79416340261569, pvalue=6.27277563979608e-10)\n",
      "Jurassic Park\n",
      "KruskalResult(statistic=46.59088064385298, pvalue=7.636930084362221e-11)\n",
      "Pirates of the Caribbean\n",
      "KruskalResult(statistic=20.64399756002606, pvalue=3.2901287079094474e-05)\n",
      "Toy Story\n",
      "KruskalResult(statistic=24.38599493626327, pvalue=5.065805156537524e-06)\n",
      "Batman\n",
      "KruskalResult(statistic=190.53496872634642, pvalue=4.2252969509030006e-42)\n",
      "number of inconsistent quality=  7\n"
     ]
    }
   ],
   "source": [
    "franchise=[\"Star Wars\", \"Harry Potter\", \"The Matrix\", \"Indiana Jones\", \"Jurassic Park\", \"Pirates of the Caribbean\", \"Toy Story\", \"Batman\"]\n",
    "n=0\n",
    "for f in franchise:\n",
    "    f_data=[]\n",
    "    for name in movie_names:\n",
    "        if f in name:\n",
    "            temp=pd.to_numeric(movies[name],errors=\"coerce\").values\n",
    "            temp=temp[np.isfinite(temp)]\n",
    "            f_data.append(temp)\n",
    "    command=\"stats.kruskal(\"\n",
    "    for i in range(len(f_data)):\n",
    "        command+=\"f_data[{}]\".format(i)\n",
    "        if i!=len(f_data)-1:\n",
    "            command+=\",\"\n",
    "        else:\n",
    "            command+=\")\"\n",
    "    print(f)\n",
    "    print(eval(command))\n",
    "    s,p=eval(command)\n",
    "    if p<0.05:\n",
    "        n+=1\n",
    "print(\"number of inconsistent quality= \",n)"
   ]
  },
  {
   "cell_type": "code",
   "execution_count": 4,
   "id": "e9b6cb27-8692-4fe5-9d96-9ee115518656",
   "metadata": {},
   "outputs": [
    {
     "name": "stdout",
     "output_type": "stream",
     "text": [
      "0.02\n"
     ]
    }
   ],
   "source": [
    "n_differently=0 # number of movies rated differently\n",
    "for name in movie_names:\n",
    "    rating=pd.to_numeric(movies[name],errors=\"coerce\").values\n",
    "    most_cry=[]\n",
    "    least_cry=[]\n",
    "    #split by gender\n",
    "    for index,g in enumerate(cry):\n",
    "        if g==5:\n",
    "            most_cry.append(rating[index])\n",
    "        elif g==1:\n",
    "            least_cry.append(rating[index])\n",
    "    #remove NaN element wise\n",
    "    most_cry=np.array(most_cry)\n",
    "    most_cry=most_cry[np.isfinite(most_cry)]\n",
    "    least_cry=np.array(least_cry)\n",
    "    least_cry=least_cry[np.isfinite(least_cry)]\n",
    "    #perform test\n",
    "    s,p=stats.mannwhitneyu(most_cry, least_cry, alternative='two-sided')\n",
    "    if p<0.005:\n",
    "        n_differently+=1\n",
    "print(n_differently/400)"
   ]
  },
  {
   "cell_type": "code",
   "execution_count": null,
   "id": "4609a23b-30d3-457b-b0a5-eed6db158561",
   "metadata": {},
   "outputs": [],
   "source": []
  }
 ],
 "metadata": {
  "kernelspec": {
   "display_name": "Python 3 (ipykernel)",
   "language": "python",
   "name": "python3"
  },
  "language_info": {
   "codemirror_mode": {
    "name": "ipython",
    "version": 3
   },
   "file_extension": ".py",
   "mimetype": "text/x-python",
   "name": "python",
   "nbconvert_exporter": "python",
   "pygments_lexer": "ipython3",
   "version": "3.9.12"
  }
 },
 "nbformat": 4,
 "nbformat_minor": 5
}
